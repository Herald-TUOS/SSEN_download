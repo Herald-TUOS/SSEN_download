{
 "cells": [
  {
   "cell_type": "code",
   "execution_count": 30,
   "metadata": {},
   "outputs": [],
   "source": [
    "import pandas as pd\n",
    "import urllib\n",
    "import os\n",
    "import requests\n",
    "from tqdm import tqdm\n",
    "from datetime import datetime"
   ]
  },
  {
   "cell_type": "code",
   "execution_count": 14,
   "metadata": {},
   "outputs": [],
   "source": [
    "start_date = '2024-03-27'\n",
    "end_date = '2024-03-27'\n",
    "\n",
    "format = '%Y-%m-%d'\n",
    "\n",
    "start_date = datetime.strptime(start_date, format)\n",
    "end_date = datetime.strptime(end_date, format)"
   ]
  },
  {
   "cell_type": "code",
   "execution_count": 15,
   "metadata": {},
   "outputs": [
    {
     "name": "stdout",
     "output_type": "stream",
     "text": [
      "2024-03-27\n"
     ]
    }
   ],
   "source": [
    "dates = pd.date_range(start=start_date, end=end_date, freq='d')\n",
    "\n",
    "for date in dates:\n",
    "    print(str(date.strftime(format)))"
   ]
  },
  {
   "cell_type": "code",
   "execution_count": 27,
   "metadata": {},
   "outputs": [],
   "source": [
    "output_dir = os.path.join(os.getenv('HOME'), 'Downloads/ssen_download')"
   ]
  },
  {
   "cell_type": "code",
   "execution_count": 28,
   "metadata": {},
   "outputs": [],
   "source": [
    "if not os.path.exists(output_dir):\n",
    "    os.makedirs(output_dir)"
   ]
  },
  {
   "cell_type": "code",
   "execution_count": 32,
   "metadata": {},
   "outputs": [
    {
     "name": "stdout",
     "output_type": "stream",
     "text": [
      "https://ssen-smart-meter-prod.portaljs.com/LV_FEEDER_USAGE/2024-03-27.csv\n"
     ]
    }
   ],
   "source": [
    "url = 'https://ssen-smart-meter-prod.portaljs.com/LV_FEEDER_USAGE/'\n",
    "\n",
    "for date in dates:\n",
    "    output_file = str(date.strftime(format) + '.csv')\n",
    "    print(url + output_file)"
   ]
  },
  {
   "cell_type": "code",
   "execution_count": 34,
   "metadata": {},
   "outputs": [],
   "source": [
    "import requests\n",
    "\n",
    "def download(url, chunk_size, output_file):\n",
    "\n",
    "    with requests.get(url, stream=True) as res:\n",
    "        res.raise_for_status()\n",
    "        file_size = int(res.headers.get('Content-Length', 0))\n",
    "\n",
    "        with open(output_file, 'wb') as outfile:\n",
    "            progress = tqdm(total=file_size, unit='B', unit_scale=True, desc=\"Downloading\")  # Initialize tqdm\n",
    "            for chunk in res.iter_content(chunk_size):\n",
    "                outfile.write(chunk)\n",
    "                progress.update(len(chunk))  # Update progress bar for each chunk\n",
    "            progress.close()  # Close"
   ]
  },
  {
   "cell_type": "code",
   "execution_count": 36,
   "metadata": {},
   "outputs": [
    {
     "name": "stderr",
     "output_type": "stream",
     "text": [
      "Downloading: 100%|██████████| 810M/810M [01:28<00:00, 9.18MB/s] \n"
     ]
    }
   ],
   "source": [
    "download(\n",
    "    url='https://ssen-smart-meter-prod.portaljs.com/LV_FEEDER_USAGE/2024-03-27.csv',\n",
    "    chunk_size=1024 * 8,\n",
    "    output_file=os.path.join(output_dir, output_file)\n",
    ")"
   ]
  }
 ],
 "metadata": {
  "kernelspec": {
   "display_name": "ssen_download",
   "language": "python",
   "name": "python3"
  },
  "language_info": {
   "codemirror_mode": {
    "name": "ipython",
    "version": 3
   },
   "file_extension": ".py",
   "mimetype": "text/x-python",
   "name": "python",
   "nbconvert_exporter": "python",
   "pygments_lexer": "ipython3",
   "version": "3.12.4"
  }
 },
 "nbformat": 4,
 "nbformat_minor": 2
}
