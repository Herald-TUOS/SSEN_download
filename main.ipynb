{
 "cells": [
  {
   "cell_type": "code",
   "execution_count": 10,
   "metadata": {},
   "outputs": [],
   "source": [
    "import pandas as pd\n",
    "import urllib\n",
    "import os\n",
    "import requests\n",
    "from tqdm import tqdm\n",
    "from datetime import datetime\n",
    "import time"
   ]
  },
  {
   "cell_type": "code",
   "execution_count": 13,
   "metadata": {},
   "outputs": [],
   "source": [
    "start_date = \"2024-03-31\"\n",
    "end_date = \"2024-03-31\"\n",
    "\n",
    "format = \"%Y-%m-%d\"\n",
    "\n",
    "start_date = datetime.strptime(start_date, format)\n",
    "end_date = datetime.strptime(end_date, format)"
   ]
  },
  {
   "cell_type": "code",
   "execution_count": 14,
   "metadata": {},
   "outputs": [
    {
     "name": "stdout",
     "output_type": "stream",
     "text": [
      "2024-03-31\n"
     ]
    }
   ],
   "source": [
    "dates = pd.date_range(start=start_date, end=end_date, freq=\"d\")\n",
    "\n",
    "for date in dates:\n",
    "    print(str(date.strftime(format)))"
   ]
  },
  {
   "cell_type": "code",
   "execution_count": 15,
   "metadata": {},
   "outputs": [],
   "source": [
    "output_dir = os.path.join(os.getenv(\"HOME\"), \"Downloads/ssen_download\")"
   ]
  },
  {
   "cell_type": "code",
   "execution_count": 16,
   "metadata": {},
   "outputs": [],
   "source": [
    "if not os.path.exists(output_dir):\n",
    "    os.makedirs(output_dir)"
   ]
  },
  {
   "cell_type": "code",
   "execution_count": 17,
   "metadata": {},
   "outputs": [],
   "source": [
    "def download(url, chunk_size, output_file):\n",
    "\n",
    "    with requests.get(url, stream=True) as res:\n",
    "        res.raise_for_status()\n",
    "        file_size = int(res.headers.get(\"Content-Length\", 0))\n",
    "\n",
    "        with open(output_file, \"wb\") as outfile:\n",
    "            progress = tqdm(\n",
    "                total=file_size, unit=\"B\", unit_scale=True, desc=\"Downloading\"\n",
    "            )  # Initialize tqdm\n",
    "            for chunk in res.iter_content(chunk_size):\n",
    "                outfile.write(chunk)\n",
    "                progress.update(len(chunk))  # Update progress bar for each chunk\n",
    "            progress.close()  # Close"
   ]
  },
  {
   "cell_type": "code",
   "execution_count": 18,
   "metadata": {},
   "outputs": [
    {
     "name": "stdout",
     "output_type": "stream",
     "text": [
      "Writing from https://ssen-smart-meter-prod.portaljs.com/LV_FEEDER_USAGE/2024-03-31.csv to /home/ph1ho/Downloads/ssen_download/2024-03-31.csv\n"
     ]
    },
    {
     "name": "stderr",
     "output_type": "stream",
     "text": [
      "Downloading: 100%|██████████| 809M/809M [01:25<00:00, 9.45MB/s] \n"
     ]
    },
    {
     "name": "stdout",
     "output_type": "stream",
     "text": [
      "Download complete\n",
      "\n",
      "\n"
     ]
    }
   ],
   "source": [
    "base_url = \"https://ssen-smart-meter-prod.portaljs.com/LV_FEEDER_USAGE/\"\n",
    "\n",
    "for date in dates:\n",
    "    output_file = str(date.strftime(format) + \".csv\")\n",
    "    url = base_url + output_file\n",
    "    print(f\"Writing from {url} to {os.path.join(output_dir, output_file)}\")\n",
    "    download(\n",
    "        url=url,\n",
    "        chunk_size=1024 * 8,\n",
    "        output_file=os.path.join(output_dir, output_file)\n",
    "    )\n",
    "    print('Download complete')\n",
    "    print('\\n')\n",
    "    time.sleep(30)"
   ]
  }
 ],
 "metadata": {
  "kernelspec": {
   "display_name": "ssen_download",
   "language": "python",
   "name": "python3"
  },
  "language_info": {
   "codemirror_mode": {
    "name": "ipython",
    "version": 3
   },
   "file_extension": ".py",
   "mimetype": "text/x-python",
   "name": "python",
   "nbconvert_exporter": "python",
   "pygments_lexer": "ipython3",
   "version": "3.12.4"
  }
 },
 "nbformat": 4,
 "nbformat_minor": 2
}
